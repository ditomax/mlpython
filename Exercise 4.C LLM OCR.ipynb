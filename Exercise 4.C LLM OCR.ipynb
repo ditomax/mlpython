{
 "cells": [
  {
   "cell_type": "markdown",
   "id": "b1d1a38d-9ffd-40f3-885a-149c993148b5",
   "metadata": {},
   "source": [
    "![ALT_TEXT_FOR_SCREEN_READERS](./header.png)"
   ]
  },
  {
   "cell_type": "markdown",
   "id": "460200ed-97ba-4cdf-bc86-b29f6a37129d",
   "metadata": {},
   "source": [
    "# Exercise 4.C OCR supported LLM Information Extraction\n",
    "\n",
    "The goal of this exercise is to build an agent demo which allows you to talk about the content of documents. The method behind this exercise is called retrieval augmented generation (RAG).\n",
    "The detailed tasks in this exercise are:\n",
    "- install a local large language model using the application Ollama\n",
    "- setup a new environment with the required packages\n",
    "- implement a simple chatbot using langchain[2]\n",
    "- test the chatbot on a specific technical document\n",
    "\n",
    "We are using Ollama[1] for local execution of the LLM and the framework langchain[2] for the access to the model.\n",
    "\n",
    "- [1] https://ollama.com/\n",
    "- [2] https://www.mistral.com/"
   ]
  },
  {
   "cell_type": "markdown",
   "id": "8188dcaa-d1b5-4eb5-9abd-2349632e0ed8",
   "metadata": {},
   "source": [
    "# Considerations\n",
    "\n",
    "- Read the tutorials carefully, especially [1]\n",
    "- Install Ollama on your computer\n",
    "- Install additional software packages into the environment by uncommenting the pip install commands one time\n",
    "- Select a model based on your memory size of the laptop\n",
    "- This is less a coding example, rather just the integration with a local LLM"
   ]
  },
  {
   "cell_type": "markdown",
   "id": "05f217f1-0006-4b8a-9ebc-e745c2a2ae4f",
   "metadata": {},
   "source": [
    "# Requirements\n",
    "\n",
    "- R0: Install the required packages using the pip commands\n",
    "- R1: Install the Ollama software\n",
    "- R2: Find a model which is running on your machine\n",
    "- R3: Start the server for the model\n",
    "- R4: Connect the server to the notebook\n",
    "- R5: Run the code parts until the first query\n",
    "- R6: Improve your query according to the slides learned in the class\n"
   ]
  },
  {
   "cell_type": "markdown",
   "id": "957bff63-b7c0-4fc7-a467-29892fa889ab",
   "metadata": {},
   "source": [
    "# Setup"
   ]
  },
  {
   "cell_type": "code",
   "execution_count": null,
   "id": "2d5acf3f-5823-46ae-8ee1-aec759e58111",
   "metadata": {},
   "outputs": [],
   "source": [
    "#%pip install -qU mistralai"
   ]
  },
  {
   "cell_type": "markdown",
   "id": "48544301-2bfe-4442-97be-2543fb3254e9",
   "metadata": {},
   "source": [
    "# Imports"
   ]
  },
  {
   "cell_type": "code",
   "execution_count": null,
   "id": "f27dee76-13ce-4cc8-9f31-08eda0f0ae2b",
   "metadata": {},
   "outputs": [],
   "source": [
    "import os\n",
    "from dotenv import load_dotenv\n",
    "import pprint\n",
    "from mistralai import Mistral\n",
    "import base64\n",
    "import mimetypes"
   ]
  },
  {
   "cell_type": "code",
   "execution_count": null,
   "id": "9d256826-64ff-46ec-b55b-a55c4aac79ad",
   "metadata": {},
   "outputs": [],
   "source": [
    "#\n",
    "# the api key has to be written in a .env file in this folder. Content: MISTRAL_API_KEY=xc.....\n",
    "#\n",
    "load_dotenv()\n",
    "api_key = os.environ[\"MISTRAL_API_KEY\"]"
   ]
  },
  {
   "cell_type": "markdown",
   "id": "ff01f272-4257-4def-ba77-bd8122105378",
   "metadata": {},
   "source": [
    "# Prepare LLM"
   ]
  },
  {
   "cell_type": "code",
   "execution_count": null,
   "id": "4d0da421-c591-4822-8a9b-d392b53d3d79",
   "metadata": {},
   "outputs": [],
   "source": [
    "client = Mistral(api_key=api_key)"
   ]
  },
  {
   "cell_type": "markdown",
   "id": "080a49a0-c9c7-4d4b-a0e9-57a6a7d81049",
   "metadata": {},
   "source": [
    "# OCR a single Image"
   ]
  },
  {
   "cell_type": "code",
   "execution_count": null,
   "id": "1e83ad95-fa60-4f98-aa9f-02db6c698f63",
   "metadata": {},
   "outputs": [],
   "source": [
    "image_file_receipt = \"./documents/graph1.png\""
   ]
  },
  {
   "cell_type": "code",
   "execution_count": null,
   "id": "fcfd6aac-418f-4ab4-8772-93be83a1068f",
   "metadata": {},
   "outputs": [],
   "source": [
    "def load_image(image_path):\n",
    "  mime_type, _ = mimetypes.guess_type(image_path)\n",
    "  with open(image_path, \"rb\") as image_file:\n",
    "    image_data = image_file.read()\n",
    "  base64_encoded = base64.b64encode(image_data).decode('utf-8')\n",
    "  base64_url = f\"data:{mime_type};base64,{base64_encoded}\"\n",
    "  return base64_url"
   ]
  },
  {
   "cell_type": "code",
   "execution_count": null,
   "id": "344168fb-0175-41af-95dc-68aba21baf68",
   "metadata": {},
   "outputs": [],
   "source": [
    "ocr_response = client.ocr.process(\n",
    "  model=\"mistral-ocr-latest\",\n",
    "  document={\n",
    "    \"type\": \"image_url\",\n",
    "    \"image_url\": load_image(image_file_receipt),\n",
    "  },\n",
    "  include_image_base64=True,\n",
    ")"
   ]
  },
  {
   "cell_type": "code",
   "execution_count": null,
   "id": "94532802-34f3-4b9e-b417-45f59d1712c6",
   "metadata": {
    "scrolled": true
   },
   "outputs": [],
   "source": [
    "print(ocr_response)"
   ]
  },
  {
   "cell_type": "code",
   "execution_count": null,
   "id": "d0d5963e-96f4-4a37-bf9a-4c4d6e598596",
   "metadata": {},
   "outputs": [],
   "source": [
    "from IPython.display import Markdown\n",
    "from IPython.display import Image, display, HTML\n",
    "\n",
    "from base64 import b64decode"
   ]
  },
  {
   "cell_type": "code",
   "execution_count": null,
   "id": "95bec492-c70e-49fa-bc45-33588932ca75",
   "metadata": {},
   "outputs": [],
   "source": [
    "def printmd(string):\n",
    "    display(Markdown(string))"
   ]
  },
  {
   "cell_type": "code",
   "execution_count": null,
   "id": "fa64468e-ac22-46e7-aefb-3787c2266e4b",
   "metadata": {},
   "outputs": [],
   "source": [
    "for page in ocr_response.pages:\n",
    "  printmd(page.markdown)\n",
    "  for image in page.images:\n",
    "      base64_str = image.image_base64  # Assuming this is the full Base64 string\n",
    "      img_html = f'<img src=\"{base64_str}\" style=\"max-width: 500px;\">'  # Adjust size if needed\n",
    "      display(HTML(img_html))\n",
    "      #print(image_raw)\n",
    "      #image_object = Image(image_raw,embed=True, format=\"jpeg\")\n",
    "      #image_object = Image(data=b64decode(image.image_base64),embed=True)\n",
    "      #print(image_object)\n",
    "      #display ( image_object )"
   ]
  },
  {
   "cell_type": "markdown",
   "id": "28ee7dba-3284-4171-ab38-b02e3efd9d9b",
   "metadata": {},
   "source": [
    "# Load and scan complete PDF with LLM"
   ]
  },
  {
   "cell_type": "code",
   "execution_count": null,
   "id": "2fa0135b-32b6-4183-9c45-43754c77c7b5",
   "metadata": {},
   "outputs": [],
   "source": [
    "#\n",
    "# Define PDF file to read\n",
    "#\n",
    "file_path = \"./documents/graph2.pdf\""
   ]
  },
  {
   "cell_type": "code",
   "execution_count": null,
   "id": "77b07ac6-b460-4506-a39f-e83d55148569",
   "metadata": {},
   "outputs": [],
   "source": [
    "def upload_pdf(filename):\n",
    "  uploaded_pdf = client.files.upload(\n",
    "    file={\n",
    "      \"file_name\": filename,\n",
    "      \"content\": open(filename, \"rb\"),\n",
    "    },\n",
    "    purpose=\"ocr\"\n",
    "  )\n",
    "  signed_url = client.files.get_signed_url(file_id=uploaded_pdf.id)\n",
    "  return signed_url.url"
   ]
  },
  {
   "cell_type": "code",
   "execution_count": null,
   "id": "0f26ce64-450d-4864-a334-a885fe0ac188",
   "metadata": {},
   "outputs": [],
   "source": [
    "messages = [\n",
    "  {\n",
    "    \"role\": \"user\",\n",
    "    \"content\": [\n",
    "      {\n",
    "        \"type\": \"text\",\n",
    "        \"text\": \"Explain this article in detail for experts in the field. Take special care for the diagram and the relations shown in diagrams.\",\n",
    "      },\n",
    "      {\n",
    "        \"type\": \"document_url\",\n",
    "        \"document_url\": upload_pdf(file_path),\n",
    "      },\n",
    "    ],\n",
    "  }\n",
    "]\n",
    "chat_response = client.chat.complete(\n",
    "  model=\"mistral-small-latest\",\n",
    "  messages=messages,\n",
    ")\n",
    "print(chat_response.choices[0].message.content)"
   ]
  },
  {
   "cell_type": "code",
   "execution_count": null,
   "id": "58b025a8-2416-4a97-aa97-332af733523e",
   "metadata": {},
   "outputs": [],
   "source": []
  }
 ],
 "metadata": {
  "kernelspec": {
   "display_name": "Python 3 (ipykernel)",
   "language": "python",
   "name": "python3"
  },
  "language_info": {
   "codemirror_mode": {
    "name": "ipython",
    "version": 3
   },
   "file_extension": ".py",
   "mimetype": "text/x-python",
   "name": "python",
   "nbconvert_exporter": "python",
   "pygments_lexer": "ipython3",
   "version": "3.9.15"
  }
 },
 "nbformat": 4,
 "nbformat_minor": 5
}
