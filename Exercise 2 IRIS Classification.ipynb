{
 "cells": [
  {
   "cell_type": "markdown",
   "id": "b1d1a38d-9ffd-40f3-885a-149c993148b5",
   "metadata": {},
   "source": [
    "![ALT_TEXT_FOR_SCREEN_READERS](./header.png)"
   ]
  },
  {
   "cell_type": "markdown",
   "id": "460200ed-97ba-4cdf-bc86-b29f6a37129d",
   "metadata": {},
   "source": [
    "# Exercise 2 IRIS Classification\n",
    "\n",
    "The goal of the exercise is to estimate the species of an iris flower using 4 features. For this we use \n",
    "different classification methods.\n",
    "We use a data set by Edgar Anderson or R. Fischer from 1936 [1][2]. The dataset contains 150 samples, each with\n",
    "4 measured values petal length, petal width, sepal length, sepal width as features and the correct class as label.  \n",
    "\n",
    "```\n",
    "[1] Edgar Anderson (1936). \"The species problem in Iris\". Annals of the Missouri Botanical Garden. 23 (3): 457–509. doi:10.2307/2394164. JSTOR 2394164.\n",
    "[2] R. A. Fisher, “The use of multiple measurements in taxonomic problems,” Ann. Eugen., vol. 7, no. 2, pp. 179–188, 1936.\n",
    "```\n",
    "\n",
    "\n",
    "[![Open In Colab](https://colab.research.google.com/assets/colab-badge.svg)](https://colab.research.google.com/github/ditomax/mlexercises/blob/master/02%20Exercise%20classification%20of%20IRIS%20flowers.ipynb)\n"
   ]
  },
  {
   "cell_type": "markdown",
   "id": "6e5da2f3-5cb0-4ac6-926b-2471b8989d8e",
   "metadata": {},
   "source": [
    "## Considerations\n",
    "\n",
    "- Implement the exercise in **python** language\n",
    "- Use the sklearn module of python\n",
    "- You are allowed to use generative models to create your code\n",
    "- You can implement the exercise in a local notebook or in a hosted colab notebook\n",
    "- When you are using a local notebook, please create a copy of this notebook with a different name\n",
    "- The code has to be included in the resulting print of the notebook\n",
    "- Some results have to be documented and commented in the notebook in the table at the end of the notebook\n",
    "- In order to support me finding the places where you fulfill the requirements. Please **mark** the code parts that related to a requirement with the **Rx** mark. E.g. **R0 near the download code**."
   ]
  },
  {
   "cell_type": "markdown",
   "id": "f491f8cd-ce47-4ae1-8a59-dbef1a8a625d",
   "metadata": {},
   "source": [
    "## Requirements\n",
    "\n",
    "- R0: Load the dataset into memory (e.g. sklearn has a ready made function to load IRIS) (10%)\n",
    "- R1: Print the shapes of the data (10%)\n",
    "- R2: Display 10 samples of the features and the labels (10%)\n",
    "- R3: Plot a histogram of the classes of the data (10%)\n",
    "- R4: Separate features and labels (10%)\n",
    "- R5: Separate training and test data (80%+20%), take care for stratification (10%)\n",
    "- R6: Train a k-nearest neighbor classifier and measure the F1 score (10%)\n",
    "- R7: Print the confusion matrix and explain the observation (10%)\n",
    "- R8: Train and measure the quality of a random forest tree classifier (10%)\n",
    "- R9: Train multiple versions of the knn model using different n_neighbors parameters and find the best value for n_neighbors (10%) "
   ]
  },
  {
   "cell_type": "markdown",
   "id": "d57d3de7-aea7-4bd7-95b1-b17a028a380d",
   "metadata": {},
   "source": [
    "# Implementation\n",
    "\n",
    "\n",
    "your code goes here..."
   ]
  },
  {
   "cell_type": "markdown",
   "id": "f4ab72ea-362d-4ce1-9a80-6074bb8fb868",
   "metadata": {},
   "source": [
    "# Results\n",
    "\n",
    "| Requirement  | F1  | Comment | \n",
    "|---|---|---|\n",
    "| R6  |   |   |\n",
    "| R8  |   |   | \n",
    "| R9  |   | n_neigbors=...  | \n"
   ]
  },
  {
   "cell_type": "code",
   "execution_count": null,
   "id": "f8756939-d927-44a4-acef-879fa8de38ee",
   "metadata": {},
   "outputs": [],
   "source": []
  }
 ],
 "metadata": {
  "kernelspec": {
   "display_name": "Python 3 (ipykernel)",
   "language": "python",
   "name": "python3"
  },
  "language_info": {
   "codemirror_mode": {
    "name": "ipython",
    "version": 3
   },
   "file_extension": ".py",
   "mimetype": "text/x-python",
   "name": "python",
   "nbconvert_exporter": "python",
   "pygments_lexer": "ipython3",
   "version": "3.11.6"
  }
 },
 "nbformat": 4,
 "nbformat_minor": 5
}
