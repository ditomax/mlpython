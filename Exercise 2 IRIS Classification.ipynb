{
 "cells": [
  {
   "cell_type": "markdown",
   "id": "b1d1a38d-9ffd-40f3-885a-149c993148b5",
   "metadata": {},
   "source": [
    "![ALT_TEXT_FOR_SCREEN_READERS](./header.png)"
   ]
  },
  {
   "cell_type": "markdown",
   "id": "460200ed-97ba-4cdf-bc86-b29f6a37129d",
   "metadata": {},
   "source": [
    "# Exercise 2 IRIS Classification\n",
    "\n",
    "The goal of the exercise is to estimate the species of an iris flower using 4 features. For this we use \n",
    "different classification methods.\n",
    "We use a data set by Edgar Anderson or R. Fischer from 1936 [1][2]. The dataset contains 150 samples, each with\n",
    "4 measured values petal length, petal width, sepal length, sepal width as features and the correct class as label.  \n",
    "\n",
    "```\n",
    "[1] Edgar Anderson (1936). \"The species problem in Iris\". Annals of the Missouri Botanical Garden. 23 (3): 457–509. doi:10.2307/2394164. JSTOR 2394164.\n",
    "[2] R. A. Fisher, “The use of multiple measurements in taxonomic problems,” Ann. Eugen., vol. 7, no. 2, pp. 179–188, 1936.\n",
    "```\n",
    "\n",
    "\n",
    "[![Open In Colab](https://colab.research.google.com/assets/colab-badge.svg)](https://colab.research.google.com/github/ditomax/mlexercises/blob/master/02%20Exercise%20classification%20of%20IRIS%20flowers.ipynb)\n"
   ]
  },
  {
   "cell_type": "markdown",
   "id": "6e5da2f3-5cb0-4ac6-926b-2471b8989d8e",
   "metadata": {},
   "source": [
    "## Considerations\n",
    "\n",
    "- Implement the exercise in **python** language\n",
    "- Use the sklearn module of python\n",
    "- You are allowed to use generative models to create your code\n",
    "- You can implement the exercise in a local notebook or in a hosted colab notebook\n",
    "- When you are using a local notebook, please create a copy of this notebook with a different name\n",
    "- The code has to be included in the resulting print of the notebook\n",
    "- Some results have to be documented and commented in the notebook in the table at the end of the notebook\n",
    "- In order to support me finding the places where you fulfill the requirements. Please **mark** the code parts that related to a requirement with the **Rx** mark. E.g. **R0 near the download code**."
   ]
  },
  {
   "cell_type": "markdown",
   "id": "f491f8cd-ce47-4ae1-8a59-dbef1a8a625d",
   "metadata": {},
   "source": [
    "## Requirements\n",
    "\n",
    "- R0: Load the dataset into memory (e.g. sklearn has a ready made function to load IRIS) (10%)\n",
    "- R1: Print the shapes of the data (10%)\n",
    "- R2: Display 10 samples of the features and the labels (10%)\n",
    "- R3: Plot a histogram of the classes of the data (10%)\n",
    "- R4: Separate features and labels (10%)\n",
    "- R5: Separate training and test data (80%+20%), take care for stratification (10%)\n",
    "- R6: Train a k-nearest neighbor classifier and measure the F1 score (10%)\n",
    "- R7: Print the confusion matrix and explain the observation (10%)\n",
    "- R8: Train and measure the quality of a random forest tree classifier (10%)\n",
    "- R9: Train multiple versions of the knn model using different n_neighbors parameters and find the best value for n_neighbors (10%) "
   ]
  },
  {
   "cell_type": "markdown",
   "id": "d57d3de7-aea7-4bd7-95b1-b17a028a380d",
   "metadata": {},
   "source": [
    "# Implementation"
   ]
  },
  {
   "cell_type": "code",
   "execution_count": 37,
   "id": "e3788dcf-59e6-4569-8892-3498ebbd8a66",
   "metadata": {},
   "outputs": [],
   "source": [
    "#\n",
    "# Turn off some warnings\n",
    "#\n",
    "from warnings import simplefilter\n",
    "# ignore all future warnings\n",
    "simplefilter(action='ignore', category=FutureWarning)\n",
    "simplefilter(action='ignore', category=Warning)\n",
    "\n",
    "#\n",
    "# Import modules\n",
    "#\n",
    "import pandas as pd\n",
    "import numpy as np\n",
    "from pandas.plotting import scatter_matrix\n",
    "import matplotlib.pyplot as plt\n",
    "import seaborn as sns\n",
    "\n",
    "from sklearn.datasets import load_iris\n",
    "from sklearn import model_selection\n",
    "from sklearn.model_selection import train_test_split\n",
    "from sklearn.metrics import classification_report\n",
    "from sklearn.metrics import confusion_matrix\n",
    "from sklearn.metrics import accuracy_score\n",
    "from sklearn.linear_model import LogisticRegression\n",
    "from sklearn.tree import DecisionTreeClassifier\n",
    "from sklearn.ensemble import RandomForestClassifier\n",
    "from sklearn.neighbors import KNeighborsClassifier\n",
    "from sklearn.discriminant_analysis import LinearDiscriminantAnalysis\n",
    "from sklearn.naive_bayes import GaussianNB\n",
    "from sklearn.svm import SVC"
   ]
  },
  {
   "cell_type": "code",
   "execution_count": 38,
   "id": "d2f822a2-a2bf-483f-89fd-33187390fef8",
   "metadata": {},
   "outputs": [],
   "source": [
    "# R0\n",
    "iris = load_iris()"
   ]
  },
  {
   "cell_type": "code",
   "execution_count": 39,
   "id": "a2a620d8-c9d8-42c2-9ee0-193f21f2297b",
   "metadata": {},
   "outputs": [],
   "source": [
    "# R4\n",
    "x = iris.data\n",
    "y = iris.target"
   ]
  },
  {
   "cell_type": "code",
   "execution_count": 40,
   "id": "a67c7301-2fdb-4f2b-903b-5011124b4d07",
   "metadata": {},
   "outputs": [
    {
     "data": {
      "text/plain": [
       "(150, 4)"
      ]
     },
     "execution_count": 40,
     "metadata": {},
     "output_type": "execute_result"
    }
   ],
   "source": [
    "# R1\n",
    "x.shape"
   ]
  },
  {
   "cell_type": "code",
   "execution_count": 41,
   "id": "63d26083-aade-4e99-a740-c57424e484bd",
   "metadata": {},
   "outputs": [
    {
     "data": {
      "text/plain": [
       "(150,)"
      ]
     },
     "execution_count": 41,
     "metadata": {},
     "output_type": "execute_result"
    }
   ],
   "source": [
    "# R1\n",
    "y.shape"
   ]
  },
  {
   "cell_type": "code",
   "execution_count": 59,
   "id": "0caaa835-235c-4b70-9164-7f03342d9059",
   "metadata": {},
   "outputs": [
    {
     "name": "stdout",
     "output_type": "stream",
     "text": [
      "[[6.7 3.1 5.6 2.4]\n",
      " [6.9 3.1 5.1 2.3]\n",
      " [5.8 2.7 5.1 1.9]\n",
      " [6.8 3.2 5.9 2.3]\n",
      " [6.7 3.3 5.7 2.5]\n",
      " [6.7 3.  5.2 2.3]\n",
      " [6.3 2.5 5.  1.9]\n",
      " [6.5 3.  5.2 2. ]\n",
      " [6.2 3.4 5.4 2.3]\n",
      " [5.9 3.  5.1 1.8]]\n"
     ]
    }
   ],
   "source": [
    "# R2\n",
    "print(x[-10:])"
   ]
  },
  {
   "cell_type": "code",
   "execution_count": 43,
   "id": "32e80469-938b-454d-838a-aac01aa5713f",
   "metadata": {},
   "outputs": [
    {
     "name": "stdout",
     "output_type": "stream",
     "text": [
      "[0 0 0 0 0 0 0 0 0 0]\n"
     ]
    }
   ],
   "source": [
    "print(y[0:10])"
   ]
  },
  {
   "cell_type": "code",
   "execution_count": 44,
   "id": "2ecfb44b-67fe-4555-897c-003f24cbe5f6",
   "metadata": {},
   "outputs": [
    {
     "data": {
      "text/plain": [
       "(array([50.,  0.,  0.,  0.,  0., 50.,  0.,  0.,  0., 50.]),\n",
       " array([0. , 0.2, 0.4, 0.6, 0.8, 1. , 1.2, 1.4, 1.6, 1.8, 2. ]),\n",
       " <BarContainer object of 10 artists>)"
      ]
     },
     "execution_count": 44,
     "metadata": {},
     "output_type": "execute_result"
    },
    {
     "data": {
      "image/png": "[encoded data removed]",
      "text/plain": [
       "<Figure size 640x480 with 1 Axes>"
      ]
     },
     "metadata": {},
     "output_type": "display_data"
    }
   ],
   "source": [
    "# R3\n",
    "plt.hist(y)"
   ]
  },
  {
   "cell_type": "code",
   "execution_count": 45,
   "id": "4fcc79c5-aac4-46be-92d8-667f57d99b22",
   "metadata": {},
   "outputs": [],
   "source": [
    "# R5"
   ]
  },
  {
   "cell_type": "code",
   "execution_count": 69,
   "id": "6b0e2a36-2e7a-4de8-b068-631f6955778d",
   "metadata": {},
   "outputs": [],
   "source": [
    "x_train, x_test, y_train, y_test = train_test_split(x, y, random_state=42, stratify=y)"
   ]
  },
  {
   "cell_type": "code",
   "execution_count": 70,
   "id": "131e8c30-9e6a-4323-b331-d565e98f9333",
   "metadata": {},
   "outputs": [
    {
     "data": {
      "text/html": [
       "<style>#sk-container-id-5 {color: black;}#sk-container-id-5 pre{padding: 0;}#sk-container-id-5 div.sk-toggleable {background-color: white;}#sk-container-id-5 label.sk-toggleable__label {cursor: pointer;display: block;width: 100%;margin-bottom: 0;padding: 0.3em;box-sizing: border-box;text-align: center;}#sk-container-id-5 label.sk-toggleable__label-arrow:before {content: \"▸\";float: left;margin-right: 0.25em;color: #696969;}#sk-container-id-5 label.sk-toggleable__label-arrow:hover:before {color: black;}#sk-container-id-5 div.sk-estimator:hover label.sk-toggleable__label-arrow:before {color: black;}#sk-container-id-5 div.sk-toggleable__content {max-height: 0;max-width: 0;overflow: hidden;text-align: left;background-color: #f0f8ff;}#sk-container-id-5 div.sk-toggleable__content pre {margin: 0.2em;color: black;border-radius: 0.25em;background-color: #f0f8ff;}#sk-container-id-5 input.sk-toggleable__control:checked~div.sk-toggleable__content {max-height: 200px;max-width: 100%;overflow: auto;}#sk-container-id-5 input.sk-toggleable__control:checked~label.sk-toggleable__label-arrow:before {content: \"▾\";}#sk-container-id-5 div.sk-estimator input.sk-toggleable__control:checked~label.sk-toggleable__label {background-color: #d4ebff;}#sk-container-id-5 div.sk-label input.sk-toggleable__control:checked~label.sk-toggleable__label {background-color: #d4ebff;}#sk-container-id-5 input.sk-hidden--visually {border: 0;clip: rect(1px 1px 1px 1px);clip: rect(1px, 1px, 1px, 1px);height: 1px;margin: -1px;overflow: hidden;padding: 0;position: absolute;width: 1px;}#sk-container-id-5 div.sk-estimator {font-family: monospace;background-color: #f0f8ff;border: 1px dotted black;border-radius: 0.25em;box-sizing: border-box;margin-bottom: 0.5em;}#sk-container-id-5 div.sk-estimator:hover {background-color: #d4ebff;}#sk-container-id-5 div.sk-parallel-item::after {content: \"\";width: 100%;border-bottom: 1px solid gray;flex-grow: 1;}#sk-container-id-5 div.sk-label:hover label.sk-toggleable__label {background-color: #d4ebff;}#sk-container-id-5 div.sk-serial::before {content: \"\";position: absolute;border-left: 1px solid gray;box-sizing: border-box;top: 0;bottom: 0;left: 50%;z-index: 0;}#sk-container-id-5 div.sk-serial {display: flex;flex-direction: column;align-items: center;background-color: white;padding-right: 0.2em;padding-left: 0.2em;position: relative;}#sk-container-id-5 div.sk-item {position: relative;z-index: 1;}#sk-container-id-5 div.sk-parallel {display: flex;align-items: stretch;justify-content: center;background-color: white;position: relative;}#sk-container-id-5 div.sk-item::before, #sk-container-id-5 div.sk-parallel-item::before {content: \"\";position: absolute;border-left: 1px solid gray;box-sizing: border-box;top: 0;bottom: 0;left: 50%;z-index: -1;}#sk-container-id-5 div.sk-parallel-item {display: flex;flex-direction: column;z-index: 1;position: relative;background-color: white;}#sk-container-id-5 div.sk-parallel-item:first-child::after {align-self: flex-end;width: 50%;}#sk-container-id-5 div.sk-parallel-item:last-child::after {align-self: flex-start;width: 50%;}#sk-container-id-5 div.sk-parallel-item:only-child::after {width: 0;}#sk-container-id-5 div.sk-dashed-wrapped {border: 1px dashed gray;margin: 0 0.4em 0.5em 0.4em;box-sizing: border-box;padding-bottom: 0.4em;background-color: white;}#sk-container-id-5 div.sk-label label {font-family: monospace;font-weight: bold;display: inline-block;line-height: 1.2em;}#sk-container-id-5 div.sk-label-container {text-align: center;}#sk-container-id-5 div.sk-container {/* jupyter's `normalize.less` sets `[hidden] { display: none; }` but bootstrap.min.css set `[hidden] { display: none !important; }` so we also need the `!important` here to be able to override the default hidden behavior on the sphinx rendered scikit-learn.org. See: https://github.com/scikit-learn/scikit-learn/issues/21755 */display: inline-block !important;position: relative;}#sk-container-id-5 div.sk-text-repr-fallback {display: none;}</style><div id=\"sk-container-id-5\" class=\"sk-top-container\"><div class=\"sk-text-repr-fallback\"><pre>KNeighborsClassifier(n_neighbors=3)</pre><b>In a Jupyter environment, please rerun this cell to show the HTML representation or trust the notebook. <br />On GitHub, the HTML representation is unable to render, please try loading this page with nbviewer.org.</b></div><div class=\"sk-container\" hidden><div class=\"sk-item\"><div class=\"sk-estimator sk-toggleable\"><input class=\"sk-toggleable__control sk-hidden--visually\" id=\"sk-estimator-id-5\" type=\"checkbox\" checked><label for=\"sk-estimator-id-5\" class=\"sk-toggleable__label sk-toggleable__label-arrow\">KNeighborsClassifier</label><div class=\"sk-toggleable__content\"><pre>KNeighborsClassifier(n_neighbors=3)</pre></div></div></div></div></div>"
      ],
      "text/plain": [
       "KNeighborsClassifier(n_neighbors=3)"
      ]
     },
     "execution_count": 70,
     "metadata": {},
     "output_type": "execute_result"
    }
   ],
   "source": [
    "# R6 kNN classifier\n",
    "knn_classifier = KNeighborsClassifier(n_neighbors=3)\n",
    "knn_classifier.fit(x_train, y_train)"
   ]
  },
  {
   "cell_type": "code",
   "execution_count": 71,
   "id": "b6884861-80d5-4f68-a6ba-3747bf6e3c3c",
   "metadata": {},
   "outputs": [],
   "source": [
    "from sklearn.metrics import f1_score"
   ]
  },
  {
   "cell_type": "code",
   "execution_count": 72,
   "id": "149b0440-3994-477e-b4a9-7a5e101abade",
   "metadata": {},
   "outputs": [],
   "source": [
    "y_test_pred = knn_classifier.predict(x_test)"
   ]
  },
  {
   "cell_type": "code",
   "execution_count": 73,
   "id": "66466b6c-174e-4743-86c3-dea503967cbf",
   "metadata": {},
   "outputs": [],
   "source": [
    "f1_knn = f1_score(y_test, y_test_pred, average='macro')"
   ]
  },
  {
   "cell_type": "code",
   "execution_count": 74,
   "id": "b69d0e98-0dd8-4836-9249-118dd847d5c9",
   "metadata": {},
   "outputs": [
    {
     "data": {
      "text/plain": [
       "0.9743209876543211"
      ]
     },
     "execution_count": 74,
     "metadata": {},
     "output_type": "execute_result"
    }
   ],
   "source": [
    "f1_knn"
   ]
  },
  {
   "cell_type": "code",
   "execution_count": 75,
   "id": "1ce91c2d-0bfd-4bf2-85cc-f7270afe6500",
   "metadata": {},
   "outputs": [
    {
     "name": "stdout",
     "output_type": "stream",
     "text": [
      "[[12  0  0]\n",
      " [ 0 13  0]\n",
      " [ 0  1 12]]\n"
     ]
    }
   ],
   "source": [
    "# R7\n",
    "print(confusion_matrix(y_test, y_test_pred))"
   ]
  },
  {
   "cell_type": "code",
   "execution_count": 76,
   "id": "368af8bc-f25a-4090-86d9-7cd223240de4",
   "metadata": {},
   "outputs": [],
   "source": [
    "# R8\n",
    "tree_classifier = RandomForestClassifier(n_estimators=100)\n",
    "tree_classifier.fit(x_train,y_train)\n",
    "y_test_pred = tree_classifier.predict(x_test)\n",
    "f1_rfc = f1_score(y_test, y_test_pred, average='macro')"
   ]
  },
  {
   "cell_type": "code",
   "execution_count": 77,
   "id": "069029d9-ad33-461e-807d-f973d7787fcf",
   "metadata": {},
   "outputs": [
    {
     "data": {
      "text/plain": [
       "0.9229629629629629"
      ]
     },
     "execution_count": 77,
     "metadata": {},
     "output_type": "execute_result"
    }
   ],
   "source": [
    "f1_rfc"
   ]
  },
  {
   "cell_type": "code",
   "execution_count": 78,
   "id": "3b9cc26d-250e-4cac-b524-eeac162a469f",
   "metadata": {},
   "outputs": [
    {
     "name": "stdout",
     "output_type": "stream",
     "text": [
      "[[12  0  0]\n",
      " [ 0 12  1]\n",
      " [ 0  2 11]]\n"
     ]
    }
   ],
   "source": [
    "print(confusion_matrix(y_test, y_test_pred))"
   ]
  },
  {
   "cell_type": "code",
   "execution_count": 79,
   "id": "e14fd9fa-0fe8-4e2e-81bf-3abc672f37b1",
   "metadata": {},
   "outputs": [
    {
     "name": "stdout",
     "output_type": "stream",
     "text": [
      "f1 score 0.9743 for n_neighbors 3\n",
      "f1 score 0.9743 for n_neighbors 4\n",
      "f1 score 0.9743 for n_neighbors 5\n",
      "f1 score 0.9484 for n_neighbors 6\n",
      "f1 score 0.9484 for n_neighbors 7\n",
      "f1 score 0.9484 for n_neighbors 8\n",
      "f1 score 0.9743 for n_neighbors 9\n",
      "f1 score 0.9743 for n_neighbors 10\n",
      "f1 score 0.9743 for n_neighbors 11\n",
      "f1 score 0.9743 for n_neighbors 12\n",
      "f1 score 0.9487 for n_neighbors 13\n",
      "f1 score 0.9487 for n_neighbors 14\n",
      "f1 score 0.9487 for n_neighbors 15\n",
      "f1 score 0.9487 for n_neighbors 16\n",
      "f1 score 0.9487 for n_neighbors 17\n",
      "f1 score 0.9487 for n_neighbors 18\n",
      "f1 score 0.9487 for n_neighbors 19\n"
     ]
    }
   ],
   "source": [
    "# R9\n",
    "\n",
    "for neighbors in range(3,20):\n",
    "    knn_classifier = KNeighborsClassifier(n_neighbors=neighbors)\n",
    "    knn_classifier.fit(x_train, y_train)\n",
    "    y_test_pred = knn_classifier.predict(x_test)\n",
    "    f1_knn = f1_score(y_test, y_test_pred, average='macro')\n",
    "    print('f1 score {:.04f} for n_neighbors {}'.format(f1_knn,neighbors) )"
   ]
  },
  {
   "cell_type": "code",
   "execution_count": null,
   "id": "960ad47c-a131-4b30-895c-0d595c2a078c",
   "metadata": {},
   "outputs": [],
   "source": []
  },
  {
   "cell_type": "code",
   "execution_count": null,
   "id": "68ea0584-74ca-4b23-829a-1db850c7c9d3",
   "metadata": {},
   "outputs": [],
   "source": []
  },
  {
   "cell_type": "code",
   "execution_count": null,
   "id": "876c1da7-28dc-436b-a89e-3b6d6653c990",
   "metadata": {},
   "outputs": [],
   "source": []
  },
  {
   "cell_type": "code",
   "execution_count": null,
   "id": "28b1d699-b48b-463a-9428-49e9f36f1548",
   "metadata": {},
   "outputs": [],
   "source": []
  },
  {
   "cell_type": "code",
   "execution_count": null,
   "id": "58e20c69-2e6d-440f-85c0-c18f6feccc7e",
   "metadata": {},
   "outputs": [],
   "source": []
  },
  {
   "cell_type": "markdown",
   "id": "f4ab72ea-362d-4ce1-9a80-6074bb8fb868",
   "metadata": {},
   "source": [
    "# Results\n",
    "\n",
    "| Requirement  | F1  | Comment | \n",
    "|---|---|---|\n",
    "| R6  | 0.974  | with random state 42  |\n",
    "| R8  | 0.896  | with 100 estimators  | \n",
    "| R9  | 0.974  | n_neigbors=3  | \n"
   ]
  },
  {
   "cell_type": "code",
   "execution_count": null,
   "id": "f8756939-d927-44a4-acef-879fa8de38ee",
   "metadata": {},
   "outputs": [],
   "source": []
  }
 ],
 "metadata": {
  "kernelspec": {
   "display_name": "Python 3 (ipykernel)",
   "language": "python",
   "name": "python3"
  },
  "language_info": {
   "codemirror_mode": {
    "name": "ipython",
    "version": 3
   },
   "file_extension": ".py",
   "mimetype": "text/x-python",
   "name": "python",
   "nbconvert_exporter": "python",
   "pygments_lexer": "ipython3",
   "version": "3.11.6"
  }
 },
 "nbformat": 4,
 "nbformat_minor": 5
}
