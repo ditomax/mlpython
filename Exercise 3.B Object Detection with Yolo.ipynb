{
 "cells": [
  {
   "cell_type": "markdown",
   "id": "b1d1a38d-9ffd-40f3-885a-149c993148b5",
   "metadata": {},
   "source": [
    "![ALT_TEXT_FOR_SCREEN_READERS](./header.png)"
   ]
  },
  {
   "cell_type": "markdown",
   "id": "460200ed-97ba-4cdf-bc86-b29f6a37129d",
   "metadata": {},
   "source": [
    "# Exercise 3.B Object Detection with Yolo v8\n",
    "\n",
    "The goal of this example is to implement a modern object detection model with a custom dataset. The following steps are performed:\n",
    "\n",
    "- Installation of the yolo v8 framework on local machine or in colab\n",
    "- Test of installation\n",
    "- Preparation of custom training data\n",
    "- Training of yolo on custom training data\n",
    "- Evaluation on custom test data\n",
    "- Analysis\n",
    "- Enhancement\n",
    "\n",
    "The dataset used will be created or extended by you during the exercise. So be prepared to create your own images.\n",
    "\n",
    "We will use yolo v8 [2], a reimplementation of yolov5 [1][3] in pytorch [4]. In details we will follow the tutorial for training of a custom dataset as described here [5].\n",
    "\n",
    "Sources for yolov8 and the labeling tools:\n",
    "\n",
    "\n",
    "- [1] [https://github.com/ultralytics/yolov5](https://github.com/ultralytics/yolov5)\n",
    "- [2] [https://github.com/ultralytics/ultralytics?tab=readme-ov-file](https://github.com/ultralytics/ultralytics?tab=readme-ov-file)\n",
    "- [3] [https://arxiv.org/pdf/2004.10934.pdf](https://arxiv.org/pdf/2004.10934.pdf)\n",
    "- [4] [https://github.com/pytorch/pytorch](https://github.com/pytorch/pytorch)\n",
    "- [5] [https://blog.roboflow.com/how-to-train-yolov8-on-a-custom-dataset/](https://blog.roboflow.com/how-to-train-yolov8-on-a-custom-dataset/)\n",
    "\n",
    "\n"
   ]
  },
  {
   "cell_type": "markdown",
   "id": "a5159014-d15c-4cc0-a794-e30843cf987c",
   "metadata": {},
   "source": [
    "# Considerations\n",
    "\n",
    "- Read the tutorials carefully, especially [5]\n",
    "- Either use your notebook, or try a colab instance if your memory or CPU power does not support the model training\n",
    "- Start with the smallest model version YOLOv8n (nano)\n",
    "- Use at least 3 classes of objects\n",
    "- Create at least 100 images of each class (use your mobile phone for image generation)\n",
    "- Use the roboflow platform for labeling (free license model available)\n",
    "- Use a train/test split of 80/20"
   ]
  },
  {
   "cell_type": "markdown",
   "id": "124388cb-7f8b-465c-967d-221fe08e6ea4",
   "metadata": {},
   "source": [
    "# Requirements\n",
    "\n",
    "- R0: Install yolo v8 into your conda environment using pip (10%)\n",
    "- R1: Create your dataset in roboflow (30%)\n",
    "- R2: Train a nano model on your dataset. Use either command line or python binding (30%)\n",
    "- R3: Analyse the training results (confusion matrix) and find the class with the worst performance (10%)\n",
    "- R4: Add 30 new images of the worst class (10%)\n",
    "- R5: Document the improvement after the update of the training data (10%)"
   ]
  },
  {
   "cell_type": "markdown",
   "id": "8528ea6e-9d9d-4c4e-92d5-b553d32a1ff5",
   "metadata": {},
   "source": [
    "# Results\n",
    "\n",
    "| Requirement  | mAP@50 all classes  | Comment | \n",
    "|---|---|---|\n",
    "| R3  | mAP@50 first training  | worst class  |\n",
    "| R5  | mAP@50 second training  | ...  | "
   ]
  },
  {
   "cell_type": "code",
   "execution_count": null,
   "id": "ab2b5e7d-5aff-4cde-a43d-f77032b005b0",
   "metadata": {},
   "outputs": [],
   "source": []
  }
 ],
 "metadata": {
  "kernelspec": {
   "display_name": "Python 3 (ipykernel)",
   "language": "python",
   "name": "python3"
  },
  "language_info": {
   "codemirror_mode": {
    "name": "ipython",
    "version": 3
   },
   "file_extension": ".py",
   "mimetype": "text/x-python",
   "name": "python",
   "nbconvert_exporter": "python",
   "pygments_lexer": "ipython3",
   "version": "3.11.6"
  }
 },
 "nbformat": 4,
 "nbformat_minor": 5
}
