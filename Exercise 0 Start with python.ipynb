{
 "cells": [
  {
   "cell_type": "markdown",
   "metadata": {},
   "source": [
    "![ALT_TEXT_FOR_SCREEN_READERS](./header.png)"
   ]
  },
  {
   "cell_type": "markdown",
   "metadata": {},
   "source": [
    "# Exercise 0 Start with Python"
   ]
  },
  {
   "cell_type": "markdown",
   "metadata": {},
   "source": [
    "python is a widely used programming language in machine learning.\n",
    "Many libraries implement almost all known methods of machine learning.\n",
    "So it makes sense to learn python as well as the two most used libraries numpy and pandas."
   ]
  },
  {
   "cell_type": "markdown",
   "metadata": {},
   "source": [
    "## Preparation Courses\n",
    "\n",
    "Walk through the following three online classes about python, numpy and pandas.\n",
    "\n",
    "- https://www.w3schools.com/python/default.asp \n",
    "- https://www.w3schools.com/python/pandas/default.asp\n",
    "- https://www.w3schools.com/python/numpy/default.asp\n",
    "\n"
   ]
  },
  {
   "cell_type": "markdown",
   "metadata": {},
   "source": [
    "## Considerations\n",
    "\n",
    "- With python focus on control flow (if, loops, functions) and data types (values, lists, dictionaries)\n",
    "- With pandas focus of import and export, creation of dataframes, merging and slicing. It is important to understand the different types of accessing the data (e.g.loc) and the meaning of the bracket operators. \n",
    "- With numpy focus on creating arrays, multidimensional arrays, merging of data, transformations and slicing"
   ]
  },
  {
   "cell_type": "markdown",
   "metadata": {},
   "source": [
    "## Assignment\n",
    "\n",
    "The following notebook contains 10 tasks to be solved using python, pandas and numpy."
   ]
  },
  {
   "cell_type": "markdown",
   "metadata": {},
   "source": [
    "# Task 1: Basics of Pandas - Reading CSV and Basic Data Inspection\n",
    "\n",
    "Understand how to read data from a CSV file and perform basic data inspection.\n",
    "\n",
    "- Load a CSV file into a Pandas DataFrame.\n",
    "- Display the first 5 rows.\n",
    "- Print the summary information of the DataFrame.\n",
    "- Show basic statistics (mean, median, min, max) of numerical columns."
   ]
  },
  {
   "cell_type": "code",
   "execution_count": null,
   "metadata": {},
   "outputs": [],
   "source": [
    "import pandas as pd\n",
    "\n",
    "data = {\n",
    "    \"Name\": [\"Alice\", \"Bob\", \"Charlie\", \"David\", \"Eva\"],\n",
    "    \"Age\": [23, 25, 30, 22, 28],\n",
    "    \"Height_cm\": [165, 170, 180, 160, 175],\n",
    "    \"Weight_kg\": [55, 70, 80, 50, 68]\n",
    "}\n",
    "\n",
    "# Create a pandas dataframe from dictionaries\n",
    "df = pd.DataFrame(data)\n",
    "\n",
    "# Save to CSV file\n",
    "df.to_csv(\"students.csv\", index=False)"
   ]
  },
  {
   "cell_type": "code",
   "execution_count": null,
   "metadata": {},
   "outputs": [],
   "source": [
    "# your code goes here\n"
   ]
  },
  {
   "cell_type": "markdown",
   "metadata": {},
   "source": [
    "# Task 2: Handling Date Columns - Loading CSV and Date Conversion\n",
    "\n",
    "Learn how to handle date columns and convert them into Pandas datetime objects.\n",
    "\n",
    "- Load a CSV file containing a column with dates.\n",
    "- Convert the date column to a Pandas datetime object.\n",
    "- Extract the year, month, and day from the date column.\n"
   ]
  },
  {
   "cell_type": "code",
   "execution_count": null,
   "metadata": {},
   "outputs": [],
   "source": [
    "data_dates = {\n",
    "    \"Name\": [\"Alice\", \"Bob\", \"Charlie\", \"David\", \"Eva\"],\n",
    "    \"Join_Date\": [\"2022-01-15\", \"2021-12-12\", \"2020-06-10\", \"2019-11-11\", \"2023-07-22\"]\n",
    "}\n",
    "\n",
    "df = pd.DataFrame(data_dates)\n",
    "df.to_csv(\"students_dates.csv\", index=False)"
   ]
  },
  {
   "cell_type": "code",
   "execution_count": null,
   "metadata": {},
   "outputs": [],
   "source": [
    "# your code goes here\n"
   ]
  },
  {
   "cell_type": "markdown",
   "metadata": {},
   "source": [
    "# Task 3: Column Selection and Row Filtering\n",
    "\n",
    "Practice selecting specific columns and filtering rows based on conditions.\n",
    "\n",
    "- Select and display the Name and Age columns from the DataFrame.\n",
    "- Filter out students who are older than 25 years and display the result."
   ]
  },
  {
   "cell_type": "code",
   "execution_count": null,
   "metadata": {},
   "outputs": [],
   "source": [
    "# your code goes here\n"
   ]
  },
  {
   "cell_type": "markdown",
   "metadata": {},
   "source": [
    "# Task 4: Slicing and Indexing Rows\n",
    "\n",
    "Learn how to slice rows and use different types of indexing.\n",
    "\n",
    "- Display the first 3 rows of the DataFrame.\n",
    "- Use .iloc to select the 2nd and 4th row.\n",
    "- Use .loc to select rows where the \"Name\" is \"Charlie\" or \"Eva\"."
   ]
  },
  {
   "cell_type": "code",
   "execution_count": null,
   "metadata": {},
   "outputs": [],
   "source": [
    "# your code goes here\n"
   ]
  },
  {
   "cell_type": "code",
   "execution_count": null,
   "metadata": {},
   "outputs": [],
   "source": []
  },
  {
   "cell_type": "markdown",
   "metadata": {},
   "source": [
    "# Task 5: Handling Missing Values - Replacement and Removal\n",
    "\n",
    "Understand how to detect, replace, and remove missing values.\n",
    "\n",
    "- Take the generated DataFrame with some missing values.\n",
    "- Replace missing values in value columns with the column's mean.\n",
    "- Drop rows that have any missing values."
   ]
  },
  {
   "cell_type": "code",
   "execution_count": null,
   "metadata": {},
   "outputs": [],
   "source": [
    "import numpy as np\n",
    "\n",
    "data_missing = {\n",
    "    \"Name\": [\"Alice\", \"Bob\", np.nan, \"David\", \"Eva\"],\n",
    "    \"Age\": [23, np.nan, 30, 22, np.nan],\n",
    "    \"Height_cm\": [165, 170, 180, np.nan, 175]\n",
    "}\n",
    "\n",
    "df = pd.DataFrame(data_missing)"
   ]
  },
  {
   "cell_type": "code",
   "execution_count": null,
   "metadata": {},
   "outputs": [],
   "source": [
    "# your code goes here\n"
   ]
  },
  {
   "cell_type": "markdown",
   "metadata": {},
   "source": [
    "# Task 6: Data Concatenation and Merging\n",
    "\n",
    "Learn how to concatenate multiple DataFrames and merge them based on a common column.\n",
    "\n",
    "- Take the two separate DataFrames: students and scores.\n",
    "- Concatenate them along the columns (students and scores)\n",
    "- Concatenate them along the rows (students and students_2)\n",
    "- Merge the DataFrames based on a common column (result of concatenate along rows and scores)"
   ]
  },
  {
   "cell_type": "code",
   "execution_count": null,
   "metadata": {},
   "outputs": [],
   "source": [
    "students = pd.DataFrame({\n",
    "    \"StudentID\": [1, 2, 3],\n",
    "    \"Name\": [\"Alice\", \"Bob\", \"Charlie\"]\n",
    "})\n",
    "\n",
    "students_2 = pd.DataFrame({\n",
    "    \"StudentID\": [4, 5, 6],\n",
    "    \"Name\": [\"Ferdl\", \"Hanni\", \"Sepp\"]\n",
    "})\n",
    "\n",
    "scores = pd.DataFrame({\n",
    "    \"StudentID\": [1, 2, 4],\n",
    "    \"Score\": [85, 90, 88]\n",
    "})\n"
   ]
  },
  {
   "cell_type": "code",
   "execution_count": null,
   "metadata": {},
   "outputs": [],
   "source": [
    "# your code goes here\n",
    "\n"
   ]
  },
  {
   "cell_type": "markdown",
   "metadata": {},
   "source": [
    "# Task 7: Introduction to NumPy - Basic Array Creation and Manipulation\n",
    "\n",
    "Familiarize yourself with creating NumPy arrays and performing basic manipulations.\n",
    "\n",
    "- Take a NumPy array of 10 random integers.\n",
    "- Reshape the array into a 2x5 matrix.\n",
    "- Slice the array to get specific elements and rows/columns (element at (0,2), first row, second column)"
   ]
  },
  {
   "cell_type": "code",
   "execution_count": null,
   "metadata": {},
   "outputs": [],
   "source": [
    "import numpy as np\n",
    "\n",
    "array = np.random.randint(0, 100, size=10)\n"
   ]
  },
  {
   "cell_type": "code",
   "execution_count": null,
   "metadata": {},
   "outputs": [],
   "source": [
    "# your code here\n"
   ]
  },
  {
   "cell_type": "markdown",
   "metadata": {},
   "source": [
    "# Task 8: Array Operations - Element-wise and Matrix Operations\n",
    "\n",
    "Practice basic arithmetic operations and matrix manipulations in NumPy.\n",
    "\n",
    "- Create two NumPy arrays of size 3x3 with random numbers.\n",
    "- Perform element-wise addition, subtraction, multiplication, and division.\n",
    "- Calculate the dot product of the two arrays."
   ]
  },
  {
   "cell_type": "code",
   "execution_count": null,
   "metadata": {},
   "outputs": [],
   "source": [
    "# your code here\n"
   ]
  },
  {
   "cell_type": "markdown",
   "metadata": {},
   "source": [
    "# Task 9: Normalization and Standardization of NumPy Array Values\n",
    "\n",
    "Learn how to normalize and standardize the values in a NumPy array.\n",
    "\n",
    "Normalization is the process of scaling the values of an array so that they fall within a specific range, usually between 0 and 1.\n",
    "\n",
    "Standardization (or Z-score normalization) transforms the data so that it has a mean of 0 and a standard deviation of 1.\n",
    "\n",
    "\n",
    "- Take a 1D NumPy array of 10 random float values.\n",
    "- Normalize the array so that all values lie between 0 and 1.\n",
    "- Standardize the array"
   ]
  },
  {
   "cell_type": "code",
   "execution_count": null,
   "metadata": {},
   "outputs": [],
   "source": [
    "array = np.random.uniform(-10, 10, 20)"
   ]
  },
  {
   "cell_type": "code",
   "execution_count": null,
   "metadata": {},
   "outputs": [],
   "source": [
    "# your code here\n"
   ]
  },
  {
   "cell_type": "markdown",
   "metadata": {},
   "source": [
    "# Task 10: One-Hot Encoding Using NumPy\n",
    "\n",
    "Implement one-hot encoding for categorical data using NumPy.\n",
    "\n",
    "A one-hot encoding takes a set of strings and assigns a unique integer index to each string. The index\n",
    "represents a position in an array. The array has the same length as the count of different strings in the set.\n",
    "If a strings needs to be represented, take the index of the string and assign a 1 at the indexed position. All other\n",
    "values in the array are 0.\n",
    "\n",
    "- Take a NumPy array of categorical labels: [\"dog\", \"cat\", \"bird\", \"dog\", \"bird\"].\n",
    "- Convert these labels into a one-hot encoded format using NumPy."
   ]
  },
  {
   "cell_type": "code",
   "execution_count": null,
   "metadata": {},
   "outputs": [],
   "source": [
    "labels = np.array([\"dog\", \"cat\", \"bird\", \"dog\", \"bird\"])\n",
    "unique_labels = np.unique(labels)"
   ]
  },
  {
   "cell_type": "code",
   "execution_count": null,
   "metadata": {},
   "outputs": [],
   "source": [
    "# your code here\n"
   ]
  },
  {
   "cell_type": "code",
   "execution_count": null,
   "metadata": {},
   "outputs": [],
   "source": []
  }
 ],
 "metadata": {
  "kernelspec": {
   "display_name": "Python 3 (ipykernel)",
   "language": "python",
   "name": "python3"
  },
  "language_info": {
   "codemirror_mode": {
    "name": "ipython",
    "version": 3
   },
   "file_extension": ".py",
   "mimetype": "text/x-python",
   "name": "python",
   "nbconvert_exporter": "python",
   "pygments_lexer": "ipython3",
   "version": "3.11.6"
  }
 },
 "nbformat": 4,
 "nbformat_minor": 4
}
