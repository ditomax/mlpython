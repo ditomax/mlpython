{
 "cells": [
  {
   "cell_type": "markdown",
   "id": "b1d1a38d-9ffd-40f3-885a-149c993148b5",
   "metadata": {},
   "source": [
    "![ALT_TEXT_FOR_SCREEN_READERS](./header.png)"
   ]
  },
  {
   "cell_type": "markdown",
   "id": "460200ed-97ba-4cdf-bc86-b29f6a37129d",
   "metadata": {},
   "source": [
    "# Exercise 3.A MNIST Classification\n",
    "\n",
    "Die goal of this exercise is to create a simple image classification network and to work on the improvement of a model and how to debug and check the training data. We start with a simple CNN model for digit classification of the MNIST dataset [1]. This dataset contains 60,000 scans of digits for training and 10,000 scans of digits for validation. A sample consists of 28x28 features with values between 0 and 255, note that the features are inverted. Actually digits are rather dark on a light background. MNIST digits are light on a dark background. This example is partly based on a tutorial by Jason Brownlee [2]. Please follow the instructions in the notebook.\n",
    "\n",
    "[1] http://yann.lecun.com/exdb/mnist/\n",
    "[2] https://machinelearningmastery.com/how-to-develop-a-convolutional-neural-network-from-scratch-for-mnist-handwritten-digit-classification/"
   ]
  },
  {
   "cell_type": "code",
   "execution_count": null,
   "id": "68d921ca-5099-4999-a9d1-bc1e703fea2e",
   "metadata": {},
   "outputs": [],
   "source": []
  },
  {
   "cell_type": "code",
   "execution_count": null,
   "id": "b35dbbc1-f93e-4f96-aeec-2fd4c92e1b60",
   "metadata": {},
   "outputs": [],
   "source": []
  },
  {
   "cell_type": "markdown",
   "id": "79051ce5-defc-4f5f-8c8f-1de843419327",
   "metadata": {},
   "source": [
    "## Considerations\n",
    "\n",
    "- Implement the exercise in **python** language\n",
    "- Use the sklearn, tensorflow AND/OR pytorch modules of python\n",
    "- You are allowed to use generative models to create your code\n",
    "- You can implement the exercise in a local notebook or in a hosted colab notebook\n",
    "- When you are using a local notebook, please create a copy of this notebook with a different name\n",
    "- The code has to be included in the resulting print of the notebook\n",
    "- Some results have to be documented and commented in the notebook in the table at the end of the notebook\n",
    "- In order to support me finding the places where you fulfill the requirements. Please **mark** the code parts that related to a requirement with the **Rx** mark. E.g. **R0 near the download code**."
   ]
  },
  {
   "cell_type": "markdown",
   "id": "57befe4f-0a3f-436e-85fd-9f05efcf9b00",
   "metadata": {
    "editable": true,
    "slideshow": {
     "slide_type": ""
    },
    "tags": []
   },
   "source": [
    "## Requirements\n",
    "\n",
    "- R0: Load the dataset into memory (e.g. Keras has a ready made function to load MNIST) (10%)\n",
    "- R1: Print the shapes of the training and test data (10%)\n",
    "- R2: Display 16 samples of the features and the labels (10%)\n",
    "- R3: Plot a histogram of the classes of the training data (10%)\n",
    "- R4: Reshape the features for use in a CNN and transform the features and labels (10%)\n",
    "- R5: Build a baseline model with one convolutional layer for classification (10%)\n",
    "- R6: Train the baseline model and use the F1 score to measure to test the quality (10%)\n",
    "- R7: Plot 16 samples of wrongly classified samples from the test data (10%)\n",
    "- R8: Build, train and test an improved version of the model (lookup internet for best MNIST solutions) (20%)"
   ]
  },
  {
   "cell_type": "markdown",
   "id": "1aae17e2-b7bd-4151-a470-11793d69588c",
   "metadata": {},
   "source": [
    "# Implementation\n",
    "\n",
    "..."
   ]
  },
  {
   "cell_type": "markdown",
   "id": "15bd0e04-99a7-430b-b7da-296a239a2a10",
   "metadata": {},
   "source": [
    "# Results\n",
    "\n",
    "| Requirement  | F1  | Comment | \n",
    "|---|---|---|\n",
    "| R6  | ...  | ...  |\n",
    "| R8  | ...  | ...  | \n"
   ]
  },
  {
   "cell_type": "code",
   "execution_count": null,
   "id": "1e5b7c36-d3c2-4af8-ae73-2e52a0117ea5",
   "metadata": {},
   "outputs": [],
   "source": []
  }
 ],
 "metadata": {
  "kernelspec": {
   "display_name": "Python 3 (ipykernel)",
   "language": "python",
   "name": "python3"
  },
  "language_info": {
   "codemirror_mode": {
    "name": "ipython",
    "version": 3
   },
   "file_extension": ".py",
   "mimetype": "text/x-python",
   "name": "python",
   "nbconvert_exporter": "python",
   "pygments_lexer": "ipython3",
   "version": "3.9.15"
  }
 },
 "nbformat": 4,
 "nbformat_minor": 5
}
