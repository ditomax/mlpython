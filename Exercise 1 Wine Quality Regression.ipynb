{
 "cells": [
  {
   "cell_type": "markdown",
   "id": "b1d1a38d-9ffd-40f3-885a-149c993148b5",
   "metadata": {},
   "source": [
    "![ALT_TEXT_FOR_SCREEN_READERS](./header.png)"
   ]
  },
  {
   "cell_type": "markdown",
   "id": "460200ed-97ba-4cdf-bc86-b29f6a37129d",
   "metadata": {},
   "source": [
    "# Exercise 1 Wine Quality Regression"
   ]
  },
  {
   "cell_type": "markdown",
   "id": "a45e0979-150d-46fd-b0dd-70c7767c649d",
   "metadata": {},
   "source": [
    "The aim of the example is to estimate the **quality of a wine** from physical measurands. To do this, we use different types of regression.\n",
    "We use a dataset of wines from Portugal created by Paulo Cortez [1]. The details of the creation of the data can be found at the following link. [http://www3.dsi.uminho.pt/pcortez/wine5.pdf](http://www3.dsi.uminho.pt/pcortez/wine5.pdf). \n",
    "\n",
    "```\n",
    "[1] P. Cortez, A. Cerdeira, F. Almeida, T. Matos and J. Reis. \n",
    "  Modeling wine preferences by data mining from physicochemical properties.\n",
    "  In Decision Support Systems, Elsevier, 47(4):547-553. ISSN: 0167-9236.\n",
    "```"
   ]
  },
  {
   "cell_type": "markdown",
   "id": "c5dfc72b-987f-4cc4-a5d0-bd861b134f72",
   "metadata": {},
   "source": [
    "## Considerations\n",
    "\n",
    "- Implement the exercise in python language\n",
    "- Use the sklearn module of python\n",
    "- You are allowed to use generative models to create your code\n",
    "- You can implement the exercise in a local notebook or in a hosted colab notebook\n",
    "- The code has to be included in the resulting print of the notebook\n",
    "- Some results have to be documented and commented in the notebook in the table at the end of the notebook\n",
    "- In order to support me finding the places where you fulfill the requirements. Please mark the code parts that related to a requirement with the Rx mark. E.g. R0 near the download code."
   ]
  },
  {
   "cell_type": "markdown",
   "id": "09667755-7783-4da5-841c-6da31bfc8458",
   "metadata": {},
   "source": [
    "## Requirements\n",
    "\n",
    "- R0: Download dataset to your drive\n",
    "- R1: Import the data into memory using pandas read_csv (10%)\n",
    "- R2: Display a sample of the data and the data shapes (10%)\n",
    "- R3: Separate the features from the labels (quality) (10%)\n",
    "- R4: Split the data into training data (70%) and test data (30%) (10%)\n",
    "- R5: Train a linear regression model as the baseline model (10%)\n",
    "- R6: Use the RMSE error measure to test the quality (10%)\n",
    "- R7: Train and measure the quality of a random forest tree regression (10%)\n",
    "- R8: Train and measure the quality of a boosted random forest tree regression (10%)\n",
    "- R9: Train and measure the quality of a Neural Network (10%) \n",
    "- R10: Print the distribution of residuals (errors) over the test set (10%)\n"
   ]
  },
  {
   "cell_type": "markdown",
   "id": "e32b949e-9bcd-4d99-b8f8-4ca6ef774d1d",
   "metadata": {},
   "source": [
    "# Implementation\n",
    "\n",
    "\n",
    "your code goes here..."
   ]
  },
  {
   "cell_type": "markdown",
   "id": "00efc5c5-42ad-4fd2-b5f0-80b7a44847b7",
   "metadata": {},
   "source": [
    "# Results\n",
    "\n",
    "| Requirement  | RSME  | Comment | \n",
    "|---|---|---|\n",
    "| R6  |   |   |\n",
    "| R7  |   |   | \n",
    "| R8  |   |   | \n",
    "| R9  |   |   | \n",
    "| R10  |   |   | \n",
    "\n"
   ]
  },
  {
   "cell_type": "code",
   "execution_count": null,
   "id": "01ee27c0-2346-44a5-a367-dd3ee65202a0",
   "metadata": {},
   "outputs": [],
   "source": []
  }
 ],
 "metadata": {
  "kernelspec": {
   "display_name": "Python 3 (ipykernel)",
   "language": "python",
   "name": "python3"
  },
  "language_info": {
   "codemirror_mode": {
    "name": "ipython",
    "version": 3
   },
   "file_extension": ".py",
   "mimetype": "text/x-python",
   "name": "python",
   "nbconvert_exporter": "python",
   "pygments_lexer": "ipython3",
   "version": "3.11.6"
  }
 },
 "nbformat": 4,
 "nbformat_minor": 5
}
