{
 "cells": [
  {
   "cell_type": "markdown",
   "metadata": {},
   "source": [
    "![ALT_TEXT_FOR_SCREEN_READERS](./header.png)"
   ]
  },
  {
   "cell_type": "markdown",
   "metadata": {},
   "source": [
    "# Exercise 0 Installation of Anaconda\n",
    "\n"
   ]
  },
  {
   "cell_type": "markdown",
   "metadata": {},
   "source": [
    "Anaconda is a software package that combines a full installation of python and essential machine learning packages on a variety of platforms. For a long time it was very costly to get and maintain a complete and functional installation of python. Incompatibilities were to be expected after one or two updates of python modules at the latest. Anaconda solves this problem and offers additional virtual installations. This allows different versions of python and other modules to be installed on the same computer without disturbing each other."
   ]
  },
  {
   "cell_type": "markdown",
   "metadata": {},
   "source": [
    "## Download of Anaconda or miniconda\n",
    "\n",
    "Visit the page of anacoda at [https://docs.anaconda.com/anaconda/install/](https://docs.anaconda.com/anaconda/install/) and look for your operating system. Select a version of anaconda with **python 3.11** and the installer for either GUI or command line. Follow the installation instruction.\n",
    "\n",
    "For miniconda visit the page at [https://docs.conda.io/projects/miniconda/en/latest/](https://docs.conda.io/projects/miniconda/en/latest/) for instructions.\n"
   ]
  },
  {
   "cell_type": "markdown",
   "metadata": {},
   "source": [
    "## Installation of git\n",
    "\n",
    "Git is a version control system for software. The examples for the course are stored in this Git repository. From there we will clone the current version of the examples. To do this, install git in anaconda. Open a anaconda terminal (or some other system terminal) and run the following command:\n",
    "\n",
    "```\n",
    "conda install -c anaconda git\n",
    "```"
   ]
  },
  {
   "cell_type": "markdown",
   "metadata": {},
   "source": [
    "## Check the installation\n",
    "\n",
    "After installation of anaconda, please verify the installation follwing the recommended procedure here:\n",
    "[https://docs.anaconda.com/anaconda/install/verify-install/](https://docs.anaconda.com/anaconda/install/verify-install/).\n"
   ]
  },
  {
   "cell_type": "markdown",
   "metadata": {},
   "source": [
    "## Clone the folder with the exercises\n",
    "\n",
    "The best way for cloning is to use **git**. With git, a clone can be created that makes corrections and improvements of the repository easily accessible later. First install **git** in the Anaconda System (if not already existing).\n",
    "\n",
    "Open a terminal on your computer and CD into a folder of your choice and then clone the complete git repository onto your computer into the folder **mlpython**.\n",
    "\n",
    "```\n",
    "git clone https://github.com/ditomax/mlpython.git mlpython\n",
    "```\n"
   ]
  },
  {
   "cell_type": "markdown",
   "metadata": {},
   "source": [
    "## Create the anaconda environment\n",
    "\n",
    "### Using the environment.yml file\n",
    "\n",
    "To use Anaconda with python we create an environment called **mlpython**. To do this, we go to the directory with the application examples in the terminal and enter the following command in the anaconda terminal (anaconda prompt):\n",
    "\n",
    "```\n",
    "conda env create -f environment.yml\n",
    "```\n",
    "\n",
    "This step can take a very long time on some machines (e.g. windows 10) and even stop with errors. In this case try the approach in the next subsection by installing the packages individually.\n",
    "\n",
    "Next, activate the environment in the terminal with the following command:\n",
    "\n",
    "```\n",
    "conda activate mlpython\n",
    "```\n",
    "\n",
    "### Installing packages individually using conda\n",
    "\n",
    "If the creation of the environment with the complete environment.yml file fails, please try to install the packages individually into a new and empty environment. Use the following commands:\n",
    "\n",
    "```\n",
    "conda create -n mlpython\n",
    "conda activate mlpython\n",
    "\n",
    "conda config --env --add channels conda-forge\n",
    "conda install numpy\n",
    "conda install matplotlib\n",
    "conda install pandas\n",
    "conda install scikit-learn\n",
    "conda install jupyterlab\n",
    "\n",
    "```\n",
    "\n",
    "\n"
   ]
  },
  {
   "cell_type": "markdown",
   "metadata": {},
   "source": [
    "## Delete the anaconda environment\n",
    "\n",
    "In case of installation problems and to restore memory after the execise, you can remove an environment including all installed modules with the following command:\n",
    "\n",
    "```\n",
    "conda remove --name mlpython --all\n",
    "```"
   ]
  },
  {
   "cell_type": "markdown",
   "metadata": {},
   "source": [
    "## Update the exercises using git\n",
    "\n",
    "The data and the notebooks of the exercise may change. To get up to date the following commands are sufficient, which are executed in the directory of the exercise with active conda environment **mlpython**:\n",
    "\n",
    "```\n",
    "git pull origin main\n",
    "conda activate mlpython\n",
    "conda env update --file environment.yml\n",
    "```\n",
    "\n",
    "**NOTE:** if you modify a notebook, git produces an error message at this point. In order to save your work, please **rename your modified file** to another name and the retry the update.\n"
   ]
  },
  {
   "cell_type": "markdown",
   "metadata": {},
   "source": [
    "## Check anaconda, python and jupyter notebooks\n",
    "\n",
    "Go to the directory with the exercises, make sure that the correct environment is running (**mlpython**) and start jupyter with the command:\n",
    "\n",
    "```\n",
    "jupyter lab\n",
    "```\n",
    "\n",
    "Next, a browser window should open and list all notebooks in the mlexercise folder. Open this notebook **Exercise 0 Setup Anaconda**.\n",
    "\n",
    "Execute the pythone code below."
   ]
  },
  {
   "cell_type": "code",
   "execution_count": 1,
   "metadata": {},
   "outputs": [
    {
     "name": "stdout",
     "output_type": "stream",
     "text": [
      "Willkommen bei python auf Anaconda!\n"
     ]
    }
   ],
   "source": [
    "import base64\n",
    "base64_message = 'V2lsbGtvbW1lbiBiZWkgcHl0aG9uIGF1ZiBBbmFjb25kYSE='\n",
    "base64_bytes = base64_message.encode('ascii')\n",
    "message_bytes = base64.b64decode(base64_bytes)\n",
    "message = message_bytes.decode('ascii')\n",
    "print(message)"
   ]
  },
  {
   "cell_type": "markdown",
   "metadata": {},
   "source": [
    "## Run notebook in google colab\n",
    "\n",
    "You can also run the exercises in google colab. You need to get a student account to do this.\n",
    "\n",
    "[![Open In Colab](https://colab.research.google.com/assets/colab-badge.svg)](https://colab.research.google.com/github/ditomax/mlexercises/blob/master/00%20Exercise%20Setup%20Anaconda.ipynb)"
   ]
  },
  {
   "cell_type": "markdown",
   "metadata": {},
   "source": [
    "# Test the printing of PDF"
   ]
  },
  {
   "cell_type": "markdown",
   "metadata": {},
   "source": [
    "One some machines it is difficult to print a notebook into a PDF file. However, for uploading the execise results, we need PDF print file. So please test if you can print a PDF from this notebook. Please check the following tasks:\n",
    "\n",
    "* Check if the title image is printed in the PDF file\n",
    "* Check if the plot at the end of this notebook is printed in the PDF file\n"
   ]
  },
  {
   "cell_type": "code",
   "execution_count": 2,
   "metadata": {},
   "outputs": [
    {
     "data": {
      "text/plain": [
       "(array([2.0000e+00, 2.1000e+01, 5.1000e+01, 2.3500e+02, 7.8100e+02,\n",
       "        2.1000e+03, 4.5730e+03, 8.3390e+03, 1.2758e+04, 1.6363e+04,\n",
       "        1.7345e+04, 1.4923e+04, 1.0920e+04, 6.4830e+03, 3.1070e+03,\n",
       "        1.3810e+03, 4.5300e+02, 1.2200e+02, 3.6000e+01, 7.0000e+00]),\n",
       " array([3.20889223, 3.38336526, 3.55783829, 3.73231132, 3.90678435,\n",
       "        4.08125738, 4.25573041, 4.43020344, 4.60467647, 4.7791495 ,\n",
       "        4.95362253, 5.12809556, 5.30256859, 5.47704162, 5.65151465,\n",
       "        5.82598768, 6.00046071, 6.17493374, 6.34940677, 6.5238798 ,\n",
       "        6.69835283]),\n",
       " <BarContainer object of 20 artists>)"
      ]
     },
     "execution_count": 2,
     "metadata": {},
     "output_type": "execute_result"
    },
    {
     "data": {
      "image/png": "[encoded data removed]",
      "text/plain": [
       "<Figure size 640x480 with 2 Axes>"
      ]
     },
     "metadata": {},
     "output_type": "display_data"
    }
   ],
   "source": [
    "import matplotlib.pyplot as plt\n",
    "import numpy as np\n",
    "\n",
    "from matplotlib import colors\n",
    "from matplotlib.ticker import PercentFormatter\n",
    "\n",
    "# Create a random number generator with a fixed seed for reproducibility\n",
    "rng = np.random.default_rng(19680801)\n",
    "N_points = 100000\n",
    "n_bins = 20\n",
    "\n",
    "# Generate two normal distributions\n",
    "dist1 = rng.standard_normal(N_points)\n",
    "dist2 = 0.4 * rng.standard_normal(N_points) + 5\n",
    "\n",
    "fig, axs = plt.subplots(1, 2, sharey=True, tight_layout=True)\n",
    "\n",
    "# We can set the number of bins with the *bins* keyword argument.\n",
    "axs[0].hist(dist1, bins=n_bins)\n",
    "axs[1].hist(dist2, bins=n_bins)"
   ]
  },
  {
   "cell_type": "code",
   "execution_count": null,
   "metadata": {},
   "outputs": [],
   "source": []
  }
 ],
 "metadata": {
  "kernelspec": {
   "display_name": "Python 3 (ipykernel)",
   "language": "python",
   "name": "python3"
  },
  "language_info": {
   "codemirror_mode": {
    "name": "ipython",
    "version": 3
   },
   "file_extension": ".py",
   "mimetype": "text/x-python",
   "name": "python",
   "nbconvert_exporter": "python",
   "pygments_lexer": "ipython3",
   "version": "3.11.6"
  }
 },
 "nbformat": 4,
 "nbformat_minor": 4
}
