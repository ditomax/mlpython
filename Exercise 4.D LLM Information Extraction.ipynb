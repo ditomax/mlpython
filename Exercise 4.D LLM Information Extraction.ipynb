{
 "cells": [
  {
   "cell_type": "markdown",
   "id": "c54c5f04-16c9-4bc8-8458-3b870044f330",
   "metadata": {},
   "source": [
    "![ALT_TEXT_FOR_SCREEN_READERS](./header.png)"
   ]
  },
  {
   "cell_type": "markdown",
   "id": "08bdb1b5-979d-4b1a-b26e-1bd48859d405",
   "metadata": {},
   "source": [
    "# Exercise 4.D LLM Information Extraction\n",
    "\n",
    "The goal of this exercise is to demonstrate the possibility of information extraction from textual information along two use cases:\n",
    "- extracting personal information from email and prepare it for update of CRM system.\n",
    "- extraction of relevant information from an Austrian Grundbuchauszug.\n",
    "\n",
    "\n",
    "We are using **OLLAMA**[1] for local execution of the LLM and the framework **langchain**[2] for the access to the model.\n",
    "\n",
    "- [1] [https://ollama.com/](https://ollama.com/)\n",
    "- [2] [https://www.langchain.com/](https://www.langchain.com/)\n",
    "\n"
   ]
  },
  {
   "cell_type": "markdown",
   "id": "c16ab026-4589-42e9-b8dc-1c8c689485de",
   "metadata": {},
   "source": [
    "# Considerations\n",
    "\n",
    "- Read the tutorial carefully\n",
    "- Install OLLAMA [1] on your machine\n",
    "- Start with the model llama3.2 https://ollama.com/library/llama3.2 and try to serve it using ollama\n",
    "- Use ```ollama pull <name-of-model>``` to load a model from the server to a local memory. Take care for the memory footprint on your machine.\n",
    "- Install **langchain-ollama** and **langchain** packages into your environment (use pip inside the workbook and comment it out later)"
   ]
  },
  {
   "cell_type": "markdown",
   "id": "a062af60-c1a6-45f6-ad04-4fa4a3e6ce40",
   "metadata": {},
   "source": [
    "# Requirements\n",
    "\n",
    "- R0: Extend the contact information extraction by Address and phone number (30%)\n",
    "- R1: Extend the Grundbuch information to show also Part C elements (40%)\n",
    "- R2: Experiment with better online LLMs (30%)"
   ]
  },
  {
   "cell_type": "markdown",
   "id": "5fa52684-85c1-498b-9260-3ec9c75672b4",
   "metadata": {},
   "source": [
    "# Setup\n",
    "\n",
    "We are using ollama and langchain."
   ]
  },
  {
   "cell_type": "code",
   "execution_count": null,
   "id": "50678e0f-9460-41f4-9943-9189175233a8",
   "metadata": {},
   "outputs": [],
   "source": [
    "#%pip install -U langchain-ollama"
   ]
  },
  {
   "cell_type": "code",
   "execution_count": null,
   "id": "efd5e3a6-19ff-4325-81ba-ada2515c4590",
   "metadata": {},
   "outputs": [],
   "source": [
    "#%pip install -U langchain"
   ]
  },
  {
   "cell_type": "code",
   "execution_count": null,
   "id": "5fc9a963-3557-45bd-b27f-183b252adb5e",
   "metadata": {},
   "outputs": [],
   "source": [
    "#%pip install -qU langchain_mistralai"
   ]
  },
  {
   "cell_type": "code",
   "execution_count": null,
   "id": "8922c43a-eecf-4b6c-a56d-56461fb528ed",
   "metadata": {},
   "outputs": [],
   "source": [
    "#%pip install -qU pypdf"
   ]
  },
  {
   "cell_type": "code",
   "execution_count": null,
   "id": "303b9f74-8a93-4f65-b462-8bd3452320c9",
   "metadata": {},
   "outputs": [],
   "source": [
    "#%pip install -qU \"pydantic[email]\""
   ]
  },
  {
   "cell_type": "markdown",
   "id": "041175af-c5fc-41fc-ae3b-469a69e60966",
   "metadata": {},
   "source": [
    "# eMail to CRM \n",
    "\n",
    "A chat completion model takes a list of messages as input and generates the next message. The resulting message is of type **AIMessage**.\n",
    "The list of messages can contain tuples with role and prompt for different message objects from the langchain_core.messages module."
   ]
  },
  {
   "cell_type": "code",
   "execution_count": null,
   "id": "20d7a4d5-9377-4b05-a285-bdba55302da1",
   "metadata": {},
   "outputs": [],
   "source": [
    "import os\n",
    "from pydantic import BaseModel, Field, EmailStr\n",
    "from typing import List, Optional\n",
    "from langchain_core.messages import AIMessage\n",
    "from langchain_ollama import ChatOllama\n",
    "from langchain_core.prompts import PromptTemplate\n",
    "from dotenv import load_dotenv\n"
   ]
  },
  {
   "cell_type": "code",
   "execution_count": null,
   "id": "98d4f695-89c5-4706-8bca-4c59b0d1271c",
   "metadata": {},
   "outputs": [],
   "source": [
    "llm = ChatOllama(\n",
    "    model=\"llama3.2\",\n",
    "    temperature=0.0\n",
    ")"
   ]
  },
  {
   "cell_type": "code",
   "execution_count": null,
   "id": "5cca15db-afa3-4773-8683-57fab7e31813",
   "metadata": {},
   "outputs": [],
   "source": [
    "fake_email = \"\"\"\n",
    "Betreff: Rückfrage zu Ihrem Angebot\n",
    "\n",
    "Sehr geehrte Damen und Herren,\n",
    "\n",
    "vielen Dank für die Zusendung Ihres Angebots. Wir haben noch einige Rückfragen bezüglich der Zahlungsmodalitäten und würden uns über eine kurze Rückmeldung freuen.\n",
    "\n",
    "Mit freundlichen Grüßen  \n",
    "Dr. Martina Schneider\n",
    "\n",
    "--  \n",
    "Dr. Martina Schneider  \n",
    "Leiterin Einkauf  \n",
    "Global Procurement Department  \n",
    "MediTech Solutions GmbH  \n",
    "Hauptstraße 123  \n",
    "12345 Berlin  \n",
    "Telefon: +49 30 123456-789  \n",
    "E-Mail: martina.schneider@meditech-solutions.de  \n",
    "\"\"\""
   ]
  },
  {
   "cell_type": "code",
   "execution_count": null,
   "id": "a82dd6ce-7781-43d2-9b2d-a7a2461212e4",
   "metadata": {},
   "outputs": [],
   "source": [
    "#\n",
    "# Definition of the information to extract, the LLM reads the description to understand the meaning of the field\n",
    "#\n",
    "class ContactInfo(BaseModel):\n",
    "    name: str = Field(..., description=\"Der vollständige Name der Person\")\n",
    "    position: Optional[str] = Field(None, description=\"Die Position oder Funktion der Person\")\n",
    "    department: Optional[str] = Field(None, description=\"Die Abteilung, in der die Person arbeitet\")\n",
    "    company: Optional[str] = Field(None, description=\"Der Name des Unternehmens\")\n",
    "    address: Optional[str] = Field(None, description=\"Die vollständige Geschäftsadresse\")\n",
    "    phone: Optional[str] = Field(None, description=\"Die geschäftliche Telefonnummer\")\n",
    "    email: Optional[EmailStr] = Field(None, description=\"Die geschäftliche E-Mail-Adresse\")"
   ]
  },
  {
   "cell_type": "code",
   "execution_count": null,
   "id": "3b29f349-869f-447f-96d3-a7b744b8d0f3",
   "metadata": {},
   "outputs": [],
   "source": [
    "structured_llm = llm.with_structured_output(ContactInfo)"
   ]
  },
  {
   "cell_type": "code",
   "execution_count": null,
   "id": "ee34bae6-e8b7-4134-b128-45bca040c605",
   "metadata": {},
   "outputs": [],
   "source": [
    "extract = structured_llm.invoke(fake_email)"
   ]
  },
  {
   "cell_type": "code",
   "execution_count": null,
   "id": "8253f798-5a14-490f-ad11-80bd0205f1c0",
   "metadata": {},
   "outputs": [],
   "source": [
    "extract"
   ]
  },
  {
   "cell_type": "markdown",
   "id": "76ea9f3e-a189-4121-9bd1-38a930ef029f",
   "metadata": {},
   "source": [
    "# Grundbuch Extraction"
   ]
  },
  {
   "cell_type": "code",
   "execution_count": null,
   "id": "65eba8f2-77cf-40ce-bc58-2fd4e1fc9152",
   "metadata": {},
   "outputs": [],
   "source": [
    "#\n",
    "# Definition of the information to extract, the LLM reads the description to understand the meaning of the field\n",
    "#\n",
    "\n",
    "from pydantic import BaseModel, Field, EmailStr, conint, constr\n",
    "from typing import List, Optional, Union"
   ]
  },
  {
   "cell_type": "code",
   "execution_count": null,
   "id": "f0429d05-add7-4ed9-99b4-222bc8dbc384",
   "metadata": {},
   "outputs": [],
   "source": [
    "\n",
    "class Anteil(BaseModel):\n",
    "    blnr: Optional[Union[int, str]] = Field(None, description=\"Laufende Nummer im B-Blatt (z. B. 31 oder '31')\")\n",
    "    name: Optional[str] = Field(None, description=\"Vollständiger Name des Eigentümers\")\n",
    "    geburtsdatum: Optional[str] = Field(None, description=\"Geburtsdatum im Format YYYY-MM-DD\")\n",
    "    adresse: Optional[str] = Field(None, description=\"Vollständige Wohnadresse (inkl. Straße, PLZ, Ort)\")\n",
    "    anteil: Optional[str] = Field(None, description=\"Anteil an der Liegenschaft (z. B. '200/4000')\")\n",
    "    wohnungseigentum_an: Optional[str] = Field(None, description=\"Bezeichnung der Wohnung (z. B. 'W 7'), sofern Wohnungseigentum besteht\")\n",
    "    rechtsgrund: Optional[str] = Field(None, description=\"Rechtsgrundlage für das Eigentum (z. B. 'Kaufvertrag 2024-02-15')\")\n",
    "\n",
    "class Belastung(BaseModel):\n",
    "    lfd_nr: Optional[Union[int, str]] = Field(None, description=\"Laufende Nummer im C-Blatt (z. B. 18 oder '18')\")\n",
    "    art: Optional[str] = Field(None, description=\"Art der Belastung (z. B. 'Pfandrecht', 'Dienstbarkeit')\")\n",
    "    inhalt: Optional[str] = Field(None, description=\"Detaillierte Beschreibung der Belastung (z. B. Vertragstext oder Zweck)\")\n",
    "    betrag: Optional[str] = Field(None, description=\"Betrag bei Pfandrechten (inkl. Währung, z. B. 'EUR 300.000,--')\")\n",
    "    glaeubiger: Optional[str] = Field(None, description=\"Name des Gläubigers bei Pfandrechten\")\n",
    "    betroffene_blnrs: Optional[List[Union[int, str]]] = Field(None, description=\"Liste der betroffenen B-LNRs (z. B. [31, 32])\")\n",
    "\n",
    "class GrundbuchEintrag(BaseModel):\n",
    "    einlagezahl: Optional[Union[str, int]] = Field(None, description=\"Einlagezahl der Liegenschaft (z. B. '6789')\")\n",
    "    katastralgemeinde: Optional[str] = Field(None, description=\"Bezeichnung der Katastralgemeinde inkl. Nummer (z. B. '35791 Sonnenfeld')\")\n",
    "    anteile: Optional[List[Union[Anteil, dict]]] = Field(None, description=\"Liste der Eigentumsanteile laut B-Blatt (****  B  ****)\")\n",
    "    belastungen: Optional[List[Union[Belastung, dict]]] = Field(None, description=\"Liste der Belastungen im C-Blatt (****  C  ****)\")\n",
    "\n",
    "    class Config:\n",
    "        arbitrary_types_allowed = True\n"
   ]
  },
  {
   "cell_type": "code",
   "execution_count": null,
   "id": "6f7bbee9-a013-4abf-995f-4e9441678007",
   "metadata": {},
   "outputs": [],
   "source": [
    "#\n",
    "# Einlesen eines Grundbuch PDFs\n",
    "#"
   ]
  },
  {
   "cell_type": "code",
   "execution_count": null,
   "id": "01c6ea46-13ec-4965-b520-cceb5cdd1678",
   "metadata": {},
   "outputs": [],
   "source": [
    "#\n",
    "# Define PDF file to read\n",
    "#\n",
    "file_path = \"./documents/KATASTRALGEMEINDE 35791 Sonnenfeld EINLAGEZAHL 6789.pdf\""
   ]
  },
  {
   "cell_type": "code",
   "execution_count": null,
   "id": "5e34cf17-92fe-4969-93af-567153075c82",
   "metadata": {},
   "outputs": [],
   "source": [
    "#\n",
    "# Load content of PDF file into memory\n",
    "#\n",
    "from langchain_community.document_loaders import PyPDFLoader"
   ]
  },
  {
   "cell_type": "code",
   "execution_count": null,
   "id": "0f01c597-095e-4316-b43a-82adde8a96b3",
   "metadata": {},
   "outputs": [],
   "source": [
    "loader = PyPDFLoader(file_path,mode=\"single\")"
   ]
  },
  {
   "cell_type": "code",
   "execution_count": null,
   "id": "7c50363a-4db9-4ccc-8b7a-258b35202762",
   "metadata": {},
   "outputs": [],
   "source": [
    "pages = loader.load()"
   ]
  },
  {
   "cell_type": "code",
   "execution_count": null,
   "id": "244b35cd-9be8-43a0-9639-7ff7096f8d82",
   "metadata": {},
   "outputs": [],
   "source": [
    "grundbuch_inhalt = ''\n",
    "for page in pages:\n",
    "    grundbuch_inhalt = grundbuch_inhalt + page.page_content"
   ]
  },
  {
   "cell_type": "code",
   "execution_count": null,
   "id": "bcc60ad1-9589-49e7-b1ce-87f6dfc26a8f",
   "metadata": {},
   "outputs": [],
   "source": [
    "print(grundbuch_inhalt)"
   ]
  },
  {
   "cell_type": "code",
   "execution_count": null,
   "id": "00fd8a71-af31-42a8-9c98-e8a08fe90e08",
   "metadata": {},
   "outputs": [],
   "source": [
    "system_prompt = \"\"\"\n",
    "\n",
    "Du bist ein juristischer Assistent und extrahierst strukturierte Informationen aus Grundbuchauszügen aus Österreich. Achte auf das genaue Ausfüllen\n",
    "der Anteil Liste und der Belastungen Liste.\n",
    "\n",
    "Grundbucheintrag\n",
    "-----------------------------------------------------\n",
    "{grundbuch_inhalt}\n",
    "-----------------------------------------------------\n",
    "\n",
    "Analysiere bitte den Text im Grundbucheintrag und extrahiere alle Felder.\n",
    "\n",
    "\"\"\""
   ]
  },
  {
   "cell_type": "code",
   "execution_count": null,
   "id": "498a648a-3a37-4497-8cc3-10b644f9197a",
   "metadata": {},
   "outputs": [],
   "source": [
    "prompt = PromptTemplate.from_template(system_prompt)"
   ]
  },
  {
   "cell_type": "code",
   "execution_count": null,
   "id": "ce6b6b1f-8b7c-4124-bd03-4a9fbe29e1c5",
   "metadata": {},
   "outputs": [],
   "source": [
    "messages = prompt.invoke({\"grundbuch_inhalt\": grundbuch_inhalt})"
   ]
  },
  {
   "cell_type": "code",
   "execution_count": null,
   "id": "36caa76e-0f34-4c9a-a5fd-101c6e357a2c",
   "metadata": {},
   "outputs": [],
   "source": [
    "#\n",
    "# Try alternative LLMs if the basic LLM does not work\n",
    "#"
   ]
  },
  {
   "cell_type": "code",
   "execution_count": null,
   "id": "ef4beba7-8ac2-4199-b431-6839f4965897",
   "metadata": {},
   "outputs": [],
   "source": [
    "#\n",
    "# R2: experiment with a better LLM, e.g. Mistral\n",
    "#\n",
    "#load_dotenv()\n",
    "#api_key = os.environ[\"MISTRAL_API_KEY\"]\n",
    "#from langchain_mistralai import ChatMistralAI\n",
    "#llm = ChatMistralAI(model=\"mistral-small-latest\",temperature=0,max_retries=2,)"
   ]
  },
  {
   "cell_type": "code",
   "execution_count": null,
   "id": "9029f42f-be7a-4ed3-8c29-5a93e4ecfeb9",
   "metadata": {},
   "outputs": [],
   "source": []
  },
  {
   "cell_type": "code",
   "execution_count": null,
   "id": "cbe704cf-a3cd-404b-a3c4-236ca4dc6ef7",
   "metadata": {},
   "outputs": [],
   "source": [
    "structured_llm = llm.with_structured_output(GrundbuchEintrag)"
   ]
  },
  {
   "cell_type": "code",
   "execution_count": null,
   "id": "529a30f7-80ff-4904-bc40-4dd36a38015b",
   "metadata": {},
   "outputs": [],
   "source": [
    "result = structured_llm.invoke(messages)"
   ]
  },
  {
   "cell_type": "code",
   "execution_count": null,
   "id": "18bd8ec7-aede-4312-ad4c-d009c3f9f1de",
   "metadata": {},
   "outputs": [],
   "source": [
    "result"
   ]
  },
  {
   "cell_type": "code",
   "execution_count": null,
   "id": "9f3dfd2e-9623-4edc-a329-318620b21f23",
   "metadata": {},
   "outputs": [],
   "source": [
    "type(result)"
   ]
  },
  {
   "cell_type": "code",
   "execution_count": null,
   "id": "7bc9b2e3-f742-47a1-99b8-dc7de6f7e6e2",
   "metadata": {},
   "outputs": [],
   "source": []
  },
  {
   "cell_type": "code",
   "execution_count": null,
   "id": "88449eb6-24d9-4a4a-be52-df28b7115e5a",
   "metadata": {},
   "outputs": [],
   "source": []
  },
  {
   "cell_type": "code",
   "execution_count": null,
   "id": "83ef2a9d-6ed9-44aa-98c4-be3cf4e1f981",
   "metadata": {},
   "outputs": [],
   "source": []
  }
 ],
 "metadata": {
  "kernelspec": {
   "display_name": "Python 3 (ipykernel)",
   "language": "python",
   "name": "python3"
  },
  "language_info": {
   "codemirror_mode": {
    "name": "ipython",
    "version": 3
   },
   "file_extension": ".py",
   "mimetype": "text/x-python",
   "name": "python",
   "nbconvert_exporter": "python",
   "pygments_lexer": "ipython3",
   "version": "3.9.15"
  }
 },
 "nbformat": 4,
 "nbformat_minor": 5
}
